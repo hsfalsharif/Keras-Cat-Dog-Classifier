{
 "cells": [
  {
   "cell_type": "code",
   "execution_count": null,
   "metadata": {},
   "outputs": [],
   "source": [
    "%matplotlib inline\n",
    "\n",
    "import os\n",
    "import tensorflow as tf\n",
    "from tensorflow.keras import models, layers\n",
    "import numpy as np\n",
    "from cv2 import cv2 as cv\n",
    "import pickle\n",
    "from matplotlib import pyplot as plt\n",
    "import random\n",
    "\n",
    "print(\"Num GPUs Available: \", len(tf.config.list_physical_devices('GPU')))"
   ]
  },
  {
   "cell_type": "code",
   "execution_count": 2,
   "metadata": {},
   "outputs": [],
   "source": [
    "def create_img_class_dataset(img_dir, img_height, img_width, class_val):\n",
    "    \"\"\"Creates an image dataset for a class from a specified directory\"\"\"\n",
    "    dataset = []\n",
    "    i = 0\n",
    "    for img_file in os.listdir(img_dir):\n",
    "        img_path = os.path.join(img_dir, img_file)\n",
    "        img = cv.imread(img_path)\n",
    "        img = cv.resize(img, (img_height, img_width), interpolation=cv.INTER_AREA)\n",
    "        img = np.array(img)\n",
    "        img = img.astype('float32')\n",
    "        img /= 255\n",
    "        \n",
    "        #img_entry = np.array([1, img])\n",
    "        dataset.append([class_val, img])\n",
    "    #dataset = np.array(dataset, dtype=np.ndarray)\n",
    "    return dataset"
   ]
  },
  {
   "cell_type": "code",
   "execution_count": null,
   "metadata": {},
   "outputs": [],
   "source": [
    "IMG_HEIGHT = 64\n",
    "IMG_WIDTH = 64\n",
    "\n",
    "np.random.seed(42)\n",
    "train_set = []\n",
    "test_set = []\n",
    "\n",
    "try:\n",
    "    train_set = pickle.load(open(\"train_set.pickle\", \"rb\"))\n",
    "    test_set = pickle.load(open(\"test_set.pickle\", \"rb\"))\n",
    "    print(\"Datasets loaded from pickle files\")\n",
    "except:\n",
    "    print(\"No pickle files found, compiling dataset variables\")\n",
    "    cat_set = create_img_class_dataset('kagglecatsanddogs_5340/PetImages/Cat', IMG_HEIGHT, IMG_WIDTH, 0)\n",
    "    dog_set = create_img_class_dataset('kagglecatsanddogs_5340/PetImages/Dog', IMG_HEIGHT, IMG_WIDTH, 1)\n",
    "    np.random.shuffle(cat_set)\n",
    "    np.random.shuffle(dog_set)\n",
    "    \n",
    "    cat_train = cat_set[:int(len(cat_set)*0.7)]\n",
    "    cat_test = cat_set[int(len(cat_set)*0.7):]\n",
    "    \n",
    "    dog_train = dog_set[:int(len(cat_set)*0.7)]\n",
    "    dog_test = dog_set[int(len(cat_set)*0.7):]\n",
    "    \n",
    "    train_set = cat_train + dog_train\n",
    "    test_set = cat_test + dog_test\n",
    "    \n",
    "    np.random.shuffle(train_set)\n",
    "    np.random.shuffle(test_set)\n",
    "    \n",
    "    with open('train_set.pickle', 'wb') as handle:\n",
    "        pickle.dump(train_set, handle, protocol=pickle.HIGHEST_PROTOCOL)\n",
    "    \n",
    "    with open('test_set.pickle', 'wb') as handle:\n",
    "        pickle.dump(test_set, handle, protocol=pickle.HIGHEST_PROTOCOL)\n",
    "\n"
   ]
  },
  {
   "cell_type": "code",
   "execution_count": 4,
   "metadata": {},
   "outputs": [],
   "source": [
    "train_set_data = []\n",
    "train_set_labels = []\n",
    "\n",
    "for i in range(len(train_set)):\n",
    "    train_set_labels.append(train_set[i][0])\n",
    "    train_set_data.append(train_set[i][1])\n",
    "\n",
    "train_set_labels = np.array(train_set_labels)\n",
    "train_set_data = np.array(train_set_data)"
   ]
  },
  {
   "cell_type": "code",
   "execution_count": 5,
   "metadata": {},
   "outputs": [],
   "source": [
    "test_set_data = []\n",
    "test_set_labels = []\n",
    "\n",
    "for i in range(len(test_set)):\n",
    "    test_set_labels.append(test_set[i][0])\n",
    "    test_set_data.append(test_set[i][1])\n",
    "\n",
    "test_set_labels = np.array(test_set_labels)\n",
    "test_set_data = np.array(test_set_data)"
   ]
  },
  {
   "cell_type": "code",
   "execution_count": null,
   "metadata": {},
   "outputs": [],
   "source": [
    "print(train_set_data)\n",
    "print(train_set_labels)"
   ]
  },
  {
   "cell_type": "code",
   "execution_count": null,
   "metadata": {},
   "outputs": [],
   "source": [
    "model = models.Sequential()\n",
    "model.add(layers.Conv2D(64, (3, 3), activation='relu', input_shape=(IMG_HEIGHT, IMG_WIDTH, 3)))\n",
    "model.add(layers.MaxPooling2D((2, 2)))\n",
    "model.add(layers.Conv2D(128, (3, 3), activation='relu'))\n",
    "model.add(layers.MaxPooling2D((2, 2)))\n",
    "model.add(layers.Conv2D(128, (3, 3), activation='relu'))\n",
    "model.summary()"
   ]
  },
  {
   "cell_type": "code",
   "execution_count": null,
   "metadata": {},
   "outputs": [],
   "source": [
    "model.add(layers.Flatten())\n",
    "model.add(layers.Dense(128, activation='relu'))\n",
    "model.add(layers.Dense(1, activation='sigmoid'))\n",
    "model.summary()"
   ]
  },
  {
   "cell_type": "code",
   "execution_count": 8,
   "metadata": {},
   "outputs": [],
   "source": [
    "model.compile(optimizer='adam', loss=tf.keras.losses.BinaryCrossentropy(), metrics=['accuracy'])"
   ]
  },
  {
   "cell_type": "code",
   "execution_count": null,
   "metadata": {},
   "outputs": [],
   "source": [
    "history = model.fit(train_set_data, train_set_labels, batch_size=32, epochs=12, validation_data=(test_set_data, test_set_labels))"
   ]
  },
  {
   "cell_type": "code",
   "execution_count": null,
   "metadata": {},
   "outputs": [],
   "source": [
    "actual_labels = ['Cat', 'Dog']\n",
    "rand_index = random.randint(0, len(test_set_data))\n",
    "prediction_img = test_set_data[rand_index]\n",
    "#prediction_img = cv.resize(prediction_img, (IMG_WIDTH, IMG_HEIGHT), interpolation=cv.INTER_AREA)\n",
    "plt.imshow(prediction_img, interpolation='nearest')\n",
    "prediction_img = prediction_img[None,:]\n",
    "#print(prediction_img.shape)\n",
    "\n",
    "#print(prediction_img.shape)\n",
    "prediction = model.predict(prediction_img)\n",
    "\n"
   ]
  },
  {
   "cell_type": "code",
   "execution_count": null,
   "metadata": {},
   "outputs": [],
   "source": [
    "print(\"Prediction:\", actual_labels[round(prediction[0][0])], \"- Value:\", prediction[0][0])"
   ]
  },
  {
   "cell_type": "code",
   "execution_count": null,
   "metadata": {},
   "outputs": [],
   "source": [
    "print(\"Actual label:\", actual_labels[test_set_labels[rand_index]])"
   ]
  },
  {
   "cell_type": "code",
   "execution_count": null,
   "metadata": {},
   "outputs": [],
   "source": [
    "correct_preds = 0\n",
    "for i in range(len(test_set_data)):\n",
    "    prediction_img = test_set_data[i]\n",
    "    prediction_img = prediction_img[None,:]\n",
    "    prediction = model.predict(prediction_img)\n",
    "    pred_val = actual_labels[round(prediction[0][0])]\n",
    "    act_val = actual_labels[test_set_labels[i]]\n",
    "    if pred_val == act_val:\n",
    "        correct_preds += 1\n",
    "\n",
    "pred_accuracy = correct_preds / len(test_set_data) * 100\n",
    "print(\"Prediction accuracy =\", pred_accuracy)"
   ]
  },
  {
   "cell_type": "code",
   "execution_count": null,
   "metadata": {},
   "outputs": [],
   "source": [
    "mishmish_img = cv.imread(\"mishmish2.jpg\")\n",
    "mishmish_img = cv.resize(mishmish_img, (IMG_WIDTH, IMG_HEIGHT), interpolation=cv.INTER_AREA)\n",
    "mishmish_img = np.array(mishmish_img)\n",
    "mishmish_img = mishmish_img.astype('float32')\n",
    "mishmish_img /= 255\n",
    "plt.imshow(mishmish_img, interpolation='nearest')\n",
    "mishmish_img = mishmish_img[None,:]\n",
    "mishmish_pred = model.predict(mishmish_img)\n",
    "print(\"Prediction:\", actual_labels[round(mishmish_pred[0][0])], \"- Value:\", mishmish_pred[0][0])"
   ]
  }
 ],
 "metadata": {
  "interpreter": {
   "hash": "24f62eee9d80cfbf2a335e80fbb93c3f7d87fe2508e4a337efcf5b811206c7f6"
  },
  "kernelspec": {
   "display_name": "Python 3.8.8 ('base')",
   "language": "python",
   "name": "python3"
  },
  "language_info": {
   "codemirror_mode": {
    "name": "ipython",
    "version": 3
   },
   "file_extension": ".py",
   "mimetype": "text/x-python",
   "name": "python",
   "nbconvert_exporter": "python",
   "pygments_lexer": "ipython3",
   "version": "3.8.8"
  },
  "orig_nbformat": 4
 },
 "nbformat": 4,
 "nbformat_minor": 2
}
